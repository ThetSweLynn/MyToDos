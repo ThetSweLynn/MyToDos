{
  "nbformat": 4,
  "nbformat_minor": 0,
  "metadata": {
    "colab": {
      "provenance": [],
      "include_colab_link": true
    },
    "kernelspec": {
      "name": "python3",
      "display_name": "Python 3"
    },
    "language_info": {
      "name": "python"
    }
  },
  "cells": [
    {
      "cell_type": "markdown",
      "metadata": {
        "id": "view-in-github",
        "colab_type": "text"
      },
      "source": [
        "<a href=\"https://colab.research.google.com/github/ThetSweLynn/MyToDos/blob/main/GithubRepo_Rag.ipynb\" target=\"_parent\"><img src=\"https://colab.research.google.com/assets/colab-badge.svg\" alt=\"Open In Colab\"/></a>"
      ]
    },
    {
      "cell_type": "code",
      "execution_count": null,
      "metadata": {
        "id": "XaMBQ1n_ttpl",
        "colab": {
          "base_uri": "https://localhost:8080/"
        },
        "outputId": "897d0df8-a418-4cc2-f17d-42aaa662616b"
      },
      "outputs": [
        {
          "output_type": "stream",
          "name": "stdout",
          "text": [
            "  Preparing metadata (setup.py) ... \u001b[?25l\u001b[?25hdone\n",
            "  Preparing metadata (setup.py) ... \u001b[?25l\u001b[?25hdone\n",
            "\u001b[2K     \u001b[90m━━━━━━━━━━━━━━━━━━━━━━━━━━━━━━━━━━━━━━━━\u001b[0m \u001b[32m50.4/50.4 kB\u001b[0m \u001b[31m676.2 kB/s\u001b[0m eta \u001b[36m0:00:00\u001b[0m\n",
            "\u001b[2K   \u001b[90m━━━━━━━━━━━━━━━━━━━━━━━━━━━━━━━━━━━━━━━━\u001b[0m \u001b[32m990.3/990.3 kB\u001b[0m \u001b[31m15.3 MB/s\u001b[0m eta \u001b[36m0:00:00\u001b[0m\n",
            "\u001b[2K   \u001b[90m━━━━━━━━━━━━━━━━━━━━━━━━━━━━━━━━━━━━━━━━\u001b[0m \u001b[32m2.3/2.3 MB\u001b[0m \u001b[31m45.2 MB/s\u001b[0m eta \u001b[36m0:00:00\u001b[0m\n",
            "\u001b[2K   \u001b[90m━━━━━━━━━━━━━━━━━━━━━━━━━━━━━━━━━━━━━━━━\u001b[0m \u001b[32m337.0/337.0 kB\u001b[0m \u001b[31m18.2 MB/s\u001b[0m eta \u001b[36m0:00:00\u001b[0m\n",
            "\u001b[2K   \u001b[90m━━━━━━━━━━━━━━━━━━━━━━━━━━━━━━━━━━━━━━━━\u001b[0m \u001b[32m1.1/1.1 MB\u001b[0m \u001b[31m35.3 MB/s\u001b[0m eta \u001b[36m0:00:00\u001b[0m\n",
            "\u001b[2K   \u001b[90m━━━━━━━━━━━━━━━━━━━━━━━━━━━━━━━━━━━━━━━━\u001b[0m \u001b[32m75.6/75.6 kB\u001b[0m \u001b[31m3.1 MB/s\u001b[0m eta \u001b[36m0:00:00\u001b[0m\n",
            "\u001b[2K   \u001b[90m━━━━━━━━━━━━━━━━━━━━━━━━━━━━━━━━━━━━━━━━\u001b[0m \u001b[32m77.9/77.9 kB\u001b[0m \u001b[31m3.9 MB/s\u001b[0m eta \u001b[36m0:00:00\u001b[0m\n",
            "\u001b[2K   \u001b[90m━━━━━━━━━━━━━━━━━━━━━━━━━━━━━━━━━━━━━━━━\u001b[0m \u001b[32m374.2/374.2 kB\u001b[0m \u001b[31m18.9 MB/s\u001b[0m eta \u001b[36m0:00:00\u001b[0m\n",
            "\u001b[2K   \u001b[90m━━━━━━━━━━━━━━━━━━━━━━━━━━━━━━━━━━━━━━━━\u001b[0m \u001b[32m139.8/139.8 kB\u001b[0m \u001b[31m8.1 MB/s\u001b[0m eta \u001b[36m0:00:00\u001b[0m\n",
            "\u001b[2K   \u001b[90m━━━━━━━━━━━━━━━━━━━━━━━━━━━━━━━━━━━━━━━━\u001b[0m \u001b[32m49.2/49.2 kB\u001b[0m \u001b[31m2.9 MB/s\u001b[0m eta \u001b[36m0:00:00\u001b[0m\n",
            "\u001b[2K   \u001b[90m━━━━━━━━━━━━━━━━━━━━━━━━━━━━━━━━━━━━━━━━\u001b[0m \u001b[32m141.1/141.1 kB\u001b[0m \u001b[31m7.1 MB/s\u001b[0m eta \u001b[36m0:00:00\u001b[0m\n",
            "\u001b[2K   \u001b[90m━━━━━━━━━━━━━━━━━━━━━━━━━━━━━━━━━━━━━━━━\u001b[0m \u001b[32m58.3/58.3 kB\u001b[0m \u001b[31m3.3 MB/s\u001b[0m eta \u001b[36m0:00:00\u001b[0m\n",
            "\u001b[?25h  Building wheel for google-search-results (setup.py) ... \u001b[?25l\u001b[?25hdone\n",
            "  Building wheel for wikipedia (setup.py) ... \u001b[?25l\u001b[?25hdone\n"
          ]
        }
      ],
      "source": [
        "!pip -q install langchain langchain-community huggingface-hub openai google-search-results tiktoken wikipedia"
      ]
    },
    {
      "cell_type": "code",
      "source": [
        "from google.colab import drive\n",
        "drive.mount('/content/drive')"
      ],
      "metadata": {
        "id": "1MScOGLZcBco",
        "colab": {
          "base_uri": "https://localhost:8080/"
        },
        "outputId": "e6a157a1-feab-44b8-af66-95acdf664274"
      },
      "execution_count": null,
      "outputs": [
        {
          "output_type": "stream",
          "name": "stdout",
          "text": [
            "Mounted at /content/drive\n"
          ]
        }
      ]
    },
    {
      "cell_type": "code",
      "source": [
        "import os\n",
        "\n",
        "os.environ[\"OPENAI_API_KEY\"] = \"YOUR_API_KEY\""
      ],
      "metadata": {
        "id": "1WsaRnmduU3C"
      },
      "execution_count": null,
      "outputs": []
    },
    {
      "cell_type": "code",
      "source": [
        "from langchain import OpenAI, Wikipedia\n",
        "from langchain.agents import initialize_agent, Tool, AgentType\n",
        "from langchain.agents.react.base import DocstoreExplorer\n",
        "from langchain.utilities import SerpAPIWrapper"
      ],
      "metadata": {
        "id": "a6dbu4rRu36u"
      },
      "execution_count": null,
      "outputs": []
    },
    {
      "cell_type": "code",
      "source": [
        "!pip -q install chromadb pypdf sentence_transformers"
      ],
      "metadata": {
        "id": "HIfxJJ4avacY",
        "colab": {
          "base_uri": "https://localhost:8080/"
        },
        "outputId": "8e7b73bb-9db0-4d77-ae05-35fc485e7153"
      },
      "execution_count": null,
      "outputs": [
        {
          "output_type": "stream",
          "name": "stdout",
          "text": [
            "\u001b[?25l     \u001b[90m━━━━━━━━━━━━━━━━━━━━━━━━━━━━━━━━━━━━━━━━\u001b[0m \u001b[32m0.0/67.3 kB\u001b[0m \u001b[31m?\u001b[0m eta \u001b[36m-:--:--\u001b[0m\r\u001b[2K     \u001b[90m━━━━━━━━━━━━━━━━━━━━━━━━━━━━━━━━━━━━━━━━\u001b[0m \u001b[32m67.3/67.3 kB\u001b[0m \u001b[31m2.9 MB/s\u001b[0m eta \u001b[36m0:00:00\u001b[0m\n",
            "\u001b[?25h  Installing build dependencies ... \u001b[?25l\u001b[?25hdone\n",
            "  Getting requirements to build wheel ... \u001b[?25l\u001b[?25hdone\n",
            "  Preparing metadata (pyproject.toml) ... \u001b[?25l\u001b[?25hdone\n",
            "\u001b[2K   \u001b[90m━━━━━━━━━━━━━━━━━━━━━━━━━━━━━━━━━━━━━━━━\u001b[0m \u001b[32m584.3/584.3 kB\u001b[0m \u001b[31m13.5 MB/s\u001b[0m eta \u001b[36m0:00:00\u001b[0m\n",
            "\u001b[2K   \u001b[90m━━━━━━━━━━━━━━━━━━━━━━━━━━━━━━━━━━━━━━━━\u001b[0m \u001b[32m2.4/2.4 MB\u001b[0m \u001b[31m41.4 MB/s\u001b[0m eta \u001b[36m0:00:00\u001b[0m\n",
            "\u001b[2K   \u001b[90m━━━━━━━━━━━━━━━━━━━━━━━━━━━━━━━━━━━━━━━━\u001b[0m \u001b[32m295.8/295.8 kB\u001b[0m \u001b[31m19.0 MB/s\u001b[0m eta \u001b[36m0:00:00\u001b[0m\n",
            "\u001b[2K   \u001b[90m━━━━━━━━━━━━━━━━━━━━━━━━━━━━━━━━━━━━━━━━\u001b[0m \u001b[32m227.1/227.1 kB\u001b[0m \u001b[31m15.6 MB/s\u001b[0m eta \u001b[36m0:00:00\u001b[0m\n",
            "\u001b[2K   \u001b[90m━━━━━━━━━━━━━━━━━━━━━━━━━━━━━━━━━━━━━━━━\u001b[0m \u001b[32m273.8/273.8 kB\u001b[0m \u001b[31m15.3 MB/s\u001b[0m eta \u001b[36m0:00:00\u001b[0m\n",
            "\u001b[2K   \u001b[90m━━━━━━━━━━━━━━━━━━━━━━━━━━━━━━━━━━━━━━━━\u001b[0m \u001b[32m92.2/92.2 kB\u001b[0m \u001b[31m6.2 MB/s\u001b[0m eta \u001b[36m0:00:00\u001b[0m\n",
            "\u001b[2K   \u001b[90m━━━━━━━━━━━━━━━━━━━━━━━━━━━━━━━━━━━━━━━━\u001b[0m \u001b[32m1.7/1.7 MB\u001b[0m \u001b[31m55.2 MB/s\u001b[0m eta \u001b[36m0:00:00\u001b[0m\n",
            "\u001b[2K   \u001b[90m━━━━━━━━━━━━━━━━━━━━━━━━━━━━━━━━━━━━━━━━\u001b[0m \u001b[32m67.6/67.6 kB\u001b[0m \u001b[31m4.3 MB/s\u001b[0m eta \u001b[36m0:00:00\u001b[0m\n",
            "\u001b[2K   \u001b[90m━━━━━━━━━━━━━━━━━━━━━━━━━━━━━━━━━━━━━━━━\u001b[0m \u001b[32m6.8/6.8 MB\u001b[0m \u001b[31m79.7 MB/s\u001b[0m eta \u001b[36m0:00:00\u001b[0m\n",
            "\u001b[2K   \u001b[90m━━━━━━━━━━━━━━━━━━━━━━━━━━━━━━━━━━━━━━━━\u001b[0m \u001b[32m61.5/61.5 kB\u001b[0m \u001b[31m4.4 MB/s\u001b[0m eta \u001b[36m0:00:00\u001b[0m\n",
            "\u001b[2K   \u001b[90m━━━━━━━━━━━━━━━━━━━━━━━━━━━━━━━━━━━━━━━━\u001b[0m \u001b[32m52.5/52.5 kB\u001b[0m \u001b[31m3.3 MB/s\u001b[0m eta \u001b[36m0:00:00\u001b[0m\n",
            "\u001b[2K   \u001b[90m━━━━━━━━━━━━━━━━━━━━━━━━━━━━━━━━━━━━━━━━\u001b[0m \u001b[32m138.0/138.0 kB\u001b[0m \u001b[31m8.7 MB/s\u001b[0m eta \u001b[36m0:00:00\u001b[0m\n",
            "\u001b[2K   \u001b[90m━━━━━━━━━━━━━━━━━━━━━━━━━━━━━━━━━━━━━━━━\u001b[0m \u001b[32m109.5/109.5 kB\u001b[0m \u001b[31m7.5 MB/s\u001b[0m eta \u001b[36m0:00:00\u001b[0m\n",
            "\u001b[2K   \u001b[90m━━━━━━━━━━━━━━━━━━━━━━━━━━━━━━━━━━━━━━━━\u001b[0m \u001b[32m41.3/41.3 kB\u001b[0m \u001b[31m2.7 MB/s\u001b[0m eta \u001b[36m0:00:00\u001b[0m\n",
            "\u001b[2K   \u001b[90m━━━━━━━━━━━━━━━━━━━━━━━━━━━━━━━━━━━━━━━━\u001b[0m \u001b[32m62.8/62.8 kB\u001b[0m \u001b[31m152.2 kB/s\u001b[0m eta \u001b[36m0:00:00\u001b[0m\n",
            "\u001b[2K   \u001b[90m━━━━━━━━━━━━━━━━━━━━━━━━━━━━━━━━━━━━━━━━\u001b[0m \u001b[32m341.4/341.4 kB\u001b[0m \u001b[31m20.3 MB/s\u001b[0m eta \u001b[36m0:00:00\u001b[0m\n",
            "\u001b[2K   \u001b[90m━━━━━━━━━━━━━━━━━━━━━━━━━━━━━━━━━━━━━━━━\u001b[0m \u001b[32m71.9/71.9 kB\u001b[0m \u001b[31m4.9 MB/s\u001b[0m eta \u001b[36m0:00:00\u001b[0m\n",
            "\u001b[2K   \u001b[90m━━━━━━━━━━━━━━━━━━━━━━━━━━━━━━━━━━━━━━━━\u001b[0m \u001b[32m3.4/3.4 MB\u001b[0m \u001b[31m73.0 MB/s\u001b[0m eta \u001b[36m0:00:00\u001b[0m\n",
            "\u001b[2K   \u001b[90m━━━━━━━━━━━━━━━━━━━━━━━━━━━━━━━━━━━━━━━━\u001b[0m \u001b[32m1.2/1.2 MB\u001b[0m \u001b[31m51.3 MB/s\u001b[0m eta \u001b[36m0:00:00\u001b[0m\n",
            "\u001b[2K   \u001b[90m━━━━━━━━━━━━━━━━━━━━━━━━━━━━━━━━━━━━━━━━\u001b[0m \u001b[32m130.2/130.2 kB\u001b[0m \u001b[31m9.0 MB/s\u001b[0m eta \u001b[36m0:00:00\u001b[0m\n",
            "\u001b[2K   \u001b[90m━━━━━━━━━━━━━━━━━━━━━━━━━━━━━━━━━━━━━━━━\u001b[0m \u001b[32m46.0/46.0 kB\u001b[0m \u001b[31m3.0 MB/s\u001b[0m eta \u001b[36m0:00:00\u001b[0m\n",
            "\u001b[2K   \u001b[90m━━━━━━━━━━━━━━━━━━━━━━━━━━━━━━━━━━━━━━━━\u001b[0m \u001b[32m307.7/307.7 kB\u001b[0m \u001b[31m19.7 MB/s\u001b[0m eta \u001b[36m0:00:00\u001b[0m\n",
            "\u001b[2K   \u001b[90m━━━━━━━━━━━━━━━━━━━━━━━━━━━━━━━━━━━━━━━━\u001b[0m \u001b[32m86.8/86.8 kB\u001b[0m \u001b[31m5.8 MB/s\u001b[0m eta \u001b[36m0:00:00\u001b[0m\n",
            "\u001b[2K   \u001b[90m━━━━━━━━━━━━━━━━━━━━━━━━━━━━━━━━━━━━━━━━\u001b[0m \u001b[32m21.3/21.3 MB\u001b[0m \u001b[31m61.4 MB/s\u001b[0m eta \u001b[36m0:00:00\u001b[0m\n",
            "\u001b[?25h  Building wheel for pypika (pyproject.toml) ... \u001b[?25l\u001b[?25hdone\n"
          ]
        }
      ]
    },
    {
      "cell_type": "code",
      "source": [
        "!pip install unstructured > /dev/null"
      ],
      "metadata": {
        "id": "bf50E4DP2Vul"
      },
      "execution_count": null,
      "outputs": []
    },
    {
      "cell_type": "code",
      "source": [
        "import os\n",
        "from langchain.vectorstores import Chroma\n",
        "from langchain.text_splitter import MarkdownTextSplitter\n",
        "\n",
        "from langchain.document_loaders import TextLoader\n",
        "from langchain.document_loaders import UnstructuredMarkdownLoader\n",
        "from langchain.document_loaders import DirectoryLoader"
      ],
      "metadata": {
        "id": "rdAlV6-9vkP_"
      },
      "execution_count": null,
      "outputs": []
    },
    {
      "cell_type": "code",
      "source": [
        "from google.colab import drive"
      ],
      "metadata": {
        "id": "wYEcYvLHwbkt"
      },
      "execution_count": null,
      "outputs": []
    },
    {
      "cell_type": "code",
      "source": [
        "drive.mount('/content/drive')"
      ],
      "metadata": {
        "colab": {
          "base_uri": "https://localhost:8080/"
        },
        "id": "buzydTofwfl6",
        "outputId": "b72c14e9-bfd4-4014-f92e-5e21e9c5b147"
      },
      "execution_count": null,
      "outputs": [
        {
          "output_type": "stream",
          "name": "stdout",
          "text": [
            "Drive already mounted at /content/drive; to attempt to forcibly remount, call drive.mount(\"/content/drive\", force_remount=True).\n"
          ]
        }
      ]
    },
    {
      "cell_type": "code",
      "source": [
        "# Function to recursively find all .md files in the given google drive folder\n",
        "def find_md_files(folder):\n",
        "    md_files = []\n",
        "    for root, dirs, files in os.walk(folder):\n",
        "        for file in files:\n",
        "            if file.endswith('.md'):\n",
        "                md_files.append(os.path.join(root, file))\n",
        "    return md_files\n",
        "\n",
        "# Main folder path\n",
        "main_folder = '/content/drive/MyDrive/Assignment1' # Replace with your google drive folder path\n",
        "\n",
        "# Find all .md files in the main folder and subfolders\n",
        "md_files = find_md_files(main_folder)"
      ],
      "metadata": {
        "id": "W3pFoVJX7Em9"
      },
      "execution_count": null,
      "outputs": []
    },
    {
      "cell_type": "code",
      "source": [
        "# Load all .md files\n",
        "documents = []\n",
        "for md_file in md_files:\n",
        "    loader = UnstructuredMarkdownLoader(md_file)\n",
        "    try:\n",
        "      documents.extend(loader.load())\n",
        "    except AttributeError as e:\n",
        "      print(f\"Error loading {md_file}: {e}\")"
      ],
      "metadata": {
        "id": "jto0mbJd7d96",
        "colab": {
          "base_uri": "https://localhost:8080/"
        },
        "outputId": "3da6e8dd-1ffe-4a1d-976e-9a654333ba09"
      },
      "execution_count": null,
      "outputs": [
        {
          "output_type": "stream",
          "name": "stdout",
          "text": [
            "Error loading /content/drive/MyDrive/Assignment1/CakePHP/ADR_1.md: 'lxml.etree._ProcessingInstruction' object has no attribute 'is_phrasing'\n",
            "Error loading /content/drive/MyDrive/Assignment1/CakePHP/ADR_2.md: 'lxml.etree._ProcessingInstruction' object has no attribute 'is_phrasing'\n"
          ]
        }
      ]
    },
    {
      "cell_type": "code",
      "source": [
        "# Split the loaded documents\n",
        "text_splitter = MarkdownTextSplitter(chunk_size=200, chunk_overlap=0)\n",
        "texts = text_splitter.split_documents(documents)"
      ],
      "metadata": {
        "id": "BSZhyEKzxI7X"
      },
      "execution_count": null,
      "outputs": []
    },
    {
      "cell_type": "code",
      "source": [
        "len(texts)\n",
        "print(texts[0])"
      ],
      "metadata": {
        "colab": {
          "base_uri": "https://localhost:8080/"
        },
        "id": "D2MjNgieyfaH",
        "outputId": "852965e4-460d-415a-e62d-55dbd3bf0a0a"
      },
      "execution_count": null,
      "outputs": [
        {
          "output_type": "stream",
          "name": "stdout",
          "text": [
            "page_content='Title\n",
            "\n",
            "Assuming that your website is a web blog service.\n",
            "\n",
            "Context\n",
            "\n",
            "What is the issue that we're seeing that is motivating this decision or change?' metadata={'source': '/content/drive/MyDrive/Assignment1/Event Sourcing/ADR1.md'}\n"
          ]
        }
      ]
    },
    {
      "cell_type": "code",
      "source": [
        "from langchain.embeddings import OpenAIEmbeddings\n",
        "\n",
        "embedding = OpenAIEmbeddings()\n",
        "\n",
        "\n",
        "persist_directory = 'db'\n",
        "\n",
        "vectordb = Chroma.from_documents(documents=texts,\n",
        "                                 embedding=embedding,\n",
        "                                 persist_directory=persist_directory)\n",
        "\n"
      ],
      "metadata": {
        "id": "Oqk5gSkji_Uu",
        "colab": {
          "base_uri": "https://localhost:8080/"
        },
        "outputId": "bd86b6e4-97d8-46c6-b2ee-07603a9771fd"
      },
      "execution_count": null,
      "outputs": [
        {
          "output_type": "stream",
          "name": "stderr",
          "text": [
            "/usr/local/lib/python3.10/dist-packages/langchain_core/_api/deprecation.py:139: LangChainDeprecationWarning: The class `OpenAIEmbeddings` was deprecated in LangChain 0.0.9 and will be removed in 0.3.0. An updated version of the class exists in the langchain-openai package and should be used instead. To use it run `pip install -U langchain-openai` and import as `from langchain_openai import OpenAIEmbeddings`.\n",
            "  warn_deprecated(\n"
          ]
        }
      ]
    },
    {
      "cell_type": "code",
      "source": [
        "from langchain.chat_models import ChatOpenAI\n",
        "llm = ChatOpenAI(model_name='gpt-4')\n",
        "\n",
        "retriever = vectordb.as_retriever(search_kwargs={\"k\": 3})\n",
        "\n",
        "from langchain.chains import RetrievalQA\n",
        "qa_chain = RetrievalQA.from_chain_type(llm=llm,\n",
        "                                  chain_type=\"stuff\",\n",
        "                                  retriever=retriever,\n",
        "                                  return_source_documents=True)"
      ],
      "metadata": {
        "id": "KQTzfrJFnXHv",
        "colab": {
          "base_uri": "https://localhost:8080/"
        },
        "outputId": "eaf6efd4-e0f3-4a69-8932-f7add5a4ed78"
      },
      "execution_count": null,
      "outputs": [
        {
          "output_type": "stream",
          "name": "stderr",
          "text": [
            "/usr/local/lib/python3.10/dist-packages/langchain_core/_api/deprecation.py:139: LangChainDeprecationWarning: The class `ChatOpenAI` was deprecated in LangChain 0.0.10 and will be removed in 0.3.0. An updated version of the class exists in the langchain-openai package and should be used instead. To use it run `pip install -U langchain-openai` and import as `from langchain_openai import ChatOpenAI`.\n",
            "  warn_deprecated(\n"
          ]
        }
      ]
    },
    {
      "cell_type": "code",
      "source": [
        "## Cite sources\n",
        "\n",
        "import textwrap\n",
        "\n",
        "def wrap_text_preserve_newlines(text, width=110):\n",
        "    # Split the input text into lines based on newline characters\n",
        "    lines = text.split('\\n')\n",
        "\n",
        "    # Wrap each line individually\n",
        "    wrapped_lines = [textwrap.fill(line, width=width) for line in lines]\n",
        "\n",
        "    # Join the wrapped lines back together using newline characters\n",
        "    wrapped_text = '\\n'.join(wrapped_lines)\n",
        "\n",
        "    return wrapped_text\n",
        "\n",
        "def process_llm_response(llm_response):\n",
        "    print(wrap_text_preserve_newlines(llm_response['result']))\n",
        "    print('\\n\\nSources:')\n",
        "    for source in llm_response[\"source_documents\"]:\n",
        "        print(source.metadata['source'])"
      ],
      "metadata": {
        "id": "GcTD_cZOYVT5"
      },
      "execution_count": null,
      "outputs": []
    },
    {
      "cell_type": "code",
      "source": [
        "query = \"Explain what is the difference between ember.js and express.js\"\n",
        "llm_response = qa_chain({\"query\": query})\n",
        "process_llm_response(llm_response)"
      ],
      "metadata": {
        "colab": {
          "base_uri": "https://localhost:8080/"
        },
        "id": "l9nsRX055L-D",
        "outputId": "3378c031-55f9-4dce-9d0b-651c20487ed4"
      },
      "execution_count": null,
      "outputs": [
        {
          "output_type": "stream",
          "name": "stderr",
          "text": [
            "/usr/local/lib/python3.10/dist-packages/langchain_core/_api/deprecation.py:139: LangChainDeprecationWarning: The method `Chain.__call__` was deprecated in langchain 0.1.0 and will be removed in 0.3.0. Use invoke instead.\n",
            "  warn_deprecated(\n"
          ]
        },
        {
          "output_type": "stream",
          "name": "stdout",
          "text": [
            "Ember.js and Express.js are both JavaScript frameworks, but they are used for different purposes in web\n",
            "development.\n",
            "\n",
            "Ember.js is a client-side JavaScript framework used for building ambitious web applications. It provides a\n",
            "complete solution including data management and an application flow. It's used for building the front-end of\n",
            "web apps, meaning it primarily handles what the user sees and interacts with in their browser.\n",
            "\n",
            "On the other hand, Express.js is a server-side JavaScript framework that runs on Node.js. It is used to build\n",
            "web applications and APIs. It handles tasks like routing, request handling, and sending responses, which are\n",
            "all critical for the back-end (server-side) of web applications.\n",
            "\n",
            "In other words, you would use Ember.js to build the user interface of your application and Express.js to build\n",
            "the server-side logic of your application.\n",
            "\n",
            "\n",
            "Sources:\n",
            "/content/drive/MyDrive/Assignment1/Ember.js/ADR1Em.md\n",
            "/content/drive/MyDrive/Assignment1/Ember.js/ADR2Em.md\n",
            "/content/drive/MyDrive/Assignment1/Exprees.js/ADR1.md\n"
          ]
        }
      ]
    },
    {
      "cell_type": "code",
      "source": [
        "#Updating by adding serpAPI and wikipedia\n",
        "\n",
        "from langchain.utilities import SerpAPIWrapper\n",
        "\n",
        "os.environ[\"SERPAPI_API_KEY\"] = \"ecd441e6062f720ecab9f7a5425700d452a51be3\""
      ],
      "metadata": {
        "id": "Y7iSAI14-yT1"
      },
      "execution_count": null,
      "outputs": []
    },
    {
      "cell_type": "code",
      "source": [
        "from langchain.agents import load_tools\n",
        "from langchain.agents import initialize_agent\n",
        "from langchain.tools import Tool"
      ],
      "metadata": {
        "id": "IcWo46bnoeRv"
      },
      "execution_count": null,
      "outputs": []
    },
    {
      "cell_type": "code",
      "source": [
        "#to use qa_chain as a tool\n",
        "def qa_chain_tool(input_text):\n",
        "  response = qa_chain({\"query\": input_text})\n",
        "  return response['result']\n",
        "\n",
        "qa_chain_tool = Tool(\n",
        "    name=\"qa_chain\",\n",
        "    func=qa_chain_tool,\n",
        "    description=\"A tool to answer questions about the content that contains in the drive\"\n",
        ")"
      ],
      "metadata": {
        "id": "Et4dQxQNx6pY"
      },
      "execution_count": null,
      "outputs": []
    },
    {
      "cell_type": "code",
      "source": [
        "tools = load_tools([\"serpapi\", \"wikipedia\"], llm=llm)\n",
        "tools.append(qa_chain_tool)"
      ],
      "metadata": {
        "id": "KZo8yO8Oo5Jf"
      },
      "execution_count": null,
      "outputs": []
    },
    {
      "cell_type": "code",
      "source": [
        "tools[2].name, tools[2].description"
      ],
      "metadata": {
        "colab": {
          "base_uri": "https://localhost:8080/"
        },
        "id": "pFXIVm_Upsa0",
        "outputId": "c1ec51a4-76dd-4f6d-abf8-8a33c70db94f"
      },
      "execution_count": null,
      "outputs": [
        {
          "output_type": "execute_result",
          "data": {
            "text/plain": [
              "('qa_chain',\n",
              " 'A tool to answer questions about the content that contains in the drive')"
            ]
          },
          "metadata": {},
          "execution_count": 22
        }
      ]
    },
    {
      "cell_type": "code",
      "source": [
        "agent = initialize_agent(tools, llm, agent=\"zero-shot-react-description\", verbose=True)"
      ],
      "metadata": {
        "id": "zP_xZCinpy6I",
        "colab": {
          "base_uri": "https://localhost:8080/"
        },
        "outputId": "ad08ce50-cef6-4cb1-ecc6-51568aba4096"
      },
      "execution_count": null,
      "outputs": [
        {
          "output_type": "stream",
          "name": "stderr",
          "text": [
            "/usr/local/lib/python3.10/dist-packages/langchain_core/_api/deprecation.py:139: LangChainDeprecationWarning: The function `initialize_agent` was deprecated in LangChain 0.1.0 and will be removed in 0.3.0. Use Use new agent constructor methods like create_react_agent, create_json_agent, create_structured_chat_agent, etc. instead.\n",
            "  warn_deprecated(\n"
          ]
        }
      ]
    },
    {
      "cell_type": "code",
      "source": [
        "agent.agent.llm_chain.prompt.template"
      ],
      "metadata": {
        "colab": {
          "base_uri": "https://localhost:8080/",
          "height": 140
        },
        "id": "Rkw-weiup8O3",
        "outputId": "8214e523-f705-4f31-bb79-75cbc6c56c6c"
      },
      "execution_count": null,
      "outputs": [
        {
          "output_type": "execute_result",
          "data": {
            "text/plain": [
              "'Answer the following questions as best you can. You have access to the following tools:\\n\\nSearch(query: str, **kwargs: Any) -> str - A search engine. Useful for when you need to answer questions about current events. Input should be a search query.\\nwikipedia - A wrapper around Wikipedia. Useful for when you need to answer general questions about people, places, companies, facts, historical events, or other subjects. Input should be a search query.\\nqa_chain(input_text) - A tool to answer questions about the content that contains in the drive\\n\\nUse the following format:\\n\\nQuestion: the input question you must answer\\nThought: you should always think about what to do\\nAction: the action to take, should be one of [Search, wikipedia, qa_chain]\\nAction Input: the input to the action\\nObservation: the result of the action\\n... (this Thought/Action/Action Input/Observation can repeat N times)\\nThought: I now know the final answer\\nFinal Answer: the final answer to the original input question\\n\\nBegin!\\n\\nQuestion: {input}\\nThought:{agent_scratchpad}'"
            ],
            "application/vnd.google.colaboratory.intrinsic+json": {
              "type": "string"
            }
          },
          "metadata": {},
          "execution_count": 24
        }
      ]
    },
    {
      "cell_type": "code",
      "source": [
        "agent.run(\"Explain what is the difference between ember.js and express.js\")"
      ],
      "metadata": {
        "colab": {
          "base_uri": "https://localhost:8080/",
          "height": 1000
        },
        "id": "GYAf8_wkzImT",
        "outputId": "044ae7ad-d2a2-46ad-cb0e-8019f8a0c665"
      },
      "execution_count": null,
      "outputs": [
        {
          "output_type": "stream",
          "name": "stderr",
          "text": [
            "/usr/local/lib/python3.10/dist-packages/langchain_core/_api/deprecation.py:139: LangChainDeprecationWarning: The method `Chain.run` was deprecated in langchain 0.1.0 and will be removed in 0.3.0. Use invoke instead.\n",
            "  warn_deprecated(\n"
          ]
        },
        {
          "output_type": "stream",
          "name": "stdout",
          "text": [
            "\n",
            "\n",
            "\u001b[1m> Entering new AgentExecutor chain...\u001b[0m\n",
            "\u001b[32;1m\u001b[1;3mEmber.js and Express.js are both JavaScript frameworks, but they are used for different purposes. I can use Wikipedia to find a general overview of each and then explain the differences.\n",
            "Action: wikipedia\n",
            "Action Input: ember.js\u001b[0m\n",
            "Observation: \u001b[33;1m\u001b[1;3mPage: Ember.js\n",
            "Summary: Ember.js is an open-source JavaScript web framework that utilizes a component-service pattern. It is designed to allow developers to create scalable single-page web applications by incorporating common idioms, best practices, and patterns from other single-page-app ecosystem patterns into the framework.\n",
            "Ember is used on many websites including HashiCorp, DigitalOcean, Apple Music, Square, Inc., Intercom, Discourse, Groupon, LinkedIn, Live Nation, Ghost, Nordstrom, and Twitch. Although primarily considered a framework for the web, it is also possible to build desktop and mobile applications with Ember when utilizing a hybrid app pattern. The most notable example of an Ember desktop application is Apple Music, a feature of the iTunes desktop application.\n",
            "The Ember trademark is owned by Tilde Inc.\n",
            "\n",
            "Page: Yarn (package manager)\n",
            "Summary: Yarn is one of the main JavaScript package managers, developed in 2016 by Sebastian McKenzie of Meta (formerly Facebook) for the Node.js JavaScript runtime environment. An alternative to the npm package manager, Yarn was created as a collaboration of Facebook (now Meta), Exponent (now Expo.dev), Google, and Tilde (the company behind Ember.js) to solve consistency, security, and performance problems with large codebases.\n",
            "\n",
            "Page: Comparison of JavaScript-based web frameworks\n",
            "Summary: This is a comparison of web frameworks for front-end web development that are heavily reliant on JavaScript code for their behavior.\u001b[0m\n",
            "Thought:\u001b[32;1m\u001b[1;3mI now have information about Ember.js. It is a JavaScript web framework used for creating scalable single-page web applications. Now, I need to fetch information about Express.js to determine the differences. \n",
            "Action: wikipedia\n",
            "Action Input: express.js\u001b[0m\n",
            "Observation: \u001b[33;1m\u001b[1;3mPage: Express.js\n",
            "Summary: Express.js, or simply Express, is a back end web application framework for building RESTful APIs with Node.js, released as free and open-source software under the MIT License. It is designed for building web applications and APIs. It has been called the de facto standard server framework for Node.js.\n",
            "The original author, TJ Holowaychuk, described it as a Sinatra-inspired server, meaning that it is relatively minimal with many features available as plugins. Express is the back-end component of popular development stacks like the MEAN, MERN or MEVN stack, together with the MongoDB database software and a JavaScript front-end framework or library.\n",
            "\n",
            "Page: Node.js\n",
            "Summary: Node.js is a cross-platform, open-source JavaScript runtime environment that can run on Windows, Linux, Unix, macOS, and more. Node.js runs on the V8 JavaScript engine, and executes JavaScript code outside a web browser.\n",
            "Node.js lets developers use JavaScript to write command line tools and for server-side scripting. The ability to run JavaScript code on the server is often used to generate dynamic web page content before the page is sent to the user's web browser. Consequently, Node.js represents a \"JavaScript everywhere\" paradigm, unifying web-application development around a single programming language, as opposed to using different languages for the server- versus client-side programming.\n",
            "Node.js has an event-driven architecture capable of asynchronous I/O. These design choices aim to optimize throughput and scalability in web applications with many input/output operations, as well as for real-time Web applications (e.g., real-time communication programs and browser games).\n",
            "The Node.js distributed development project was previously governed by the Node.js Foundation, and has now merged with the JS Foundation to form the OpenJS Foundation. OpenJS Foundation is facilitated by the Linux Foundation's Collaborative Projects program.\n",
            "\n",
            "Node.js was initially written by Ryan Dahl in 2009, about 13 years after the introduction of the first server-side JavaScript environment, Netscape's LiveWire Pro Web. The initial release supported only Linux and Mac OS X. Its development and maintenance was led by Dahl and later sponsored by Joyent.\n",
            "Dahl criticized the limited capability of Apache HTTP Server to handle many (10,000+) concurrent connections, as well as the dominant programming paradigm of sequential programming, in which applications could block entire processes or cause the creation of multiple execution stacks for simultaneous connections.\n",
            "Dahl demonstrated the project at the inaugural European JSConf on November 8, 2009. Node.js combined Google's V8 JavaScript engine, an event loop, and a low-level I/O API.\n",
            "In January 2010, a package manager was introduced for the Node.js environment called npm. The package manager allows programmers to publish and share Node.js packages, along with the accompanying source code, and is designed to simplify the installation, update and uninstallation of packages.\n",
            "In June 2011, Microsoft and Joyent implemented a native Windows version of Node.js. The first Node.js build supporting Windows was released in July 2011.\n",
            "In January 2012, Dahl yielded management of the project to npm creator Isaac Schlueter. In January 2014, Schlueter announced that Timothy J. Fontaine would lead the project.\n",
            "In December 2014, Fedor Indutny created io.js, a fork of Node.js created because of dissatisfaction with Joyent's governance as an open-governance alternative with a separate technical committee. The goal was to enable a structure that would be more receptive to community input, including the updating of io.js with the latest Google V8 JavaScript engine releases, diverging from Node.js's approach at that time.\n",
            "The Node.js Foundation, formed to reconcile Node.js and io.js under a unified banner, was announced in February 2015. The merger was realized in September 2015 with Node.js v0.12 and io.js v3.3 combining into Node v4.0. \u001b[0m\n",
            "Thought:\u001b[32;1m\u001b[1;3mI now know about Express.js. It is a back end web application framework for building RESTful APIs with Node.js. It is described as being relatively minimal with many features available as plugins and is the de facto standard server framework for Node.js. Now I can compare the two.\n",
            "Final Answer: Ember.js and Express.js are both JavaScript frameworks, but they serve different purposes and are used in different parts of a web application. \n",
            "\n",
            "Ember.js is a front-end JavaScript framework designed for creating scalable single-page web applications. It provides a complete solution which includes data management and an application flow. It follows the convention over configuration principle, providing a higher degree of opinion on how applications should be structured.\n",
            "\n",
            "On the other hand, Express.js is a back-end web application framework for Node.js. It is designed for building web applications and RESTful APIs, it's relatively minimal with many features available as plugins. Express.js forms the backend part of the MEAN, MERN and MEVN stack technologies, working alongside a front-end JavaScript framework or library and MongoDB database software.\n",
            "\n",
            "In summary, Ember.js is typically used for structuring the front-end part of the web application, while Express.js is used for building the back-end services.\u001b[0m\n",
            "\n",
            "\u001b[1m> Finished chain.\u001b[0m\n"
          ]
        },
        {
          "output_type": "execute_result",
          "data": {
            "text/plain": [
              "\"Ember.js and Express.js are both JavaScript frameworks, but they serve different purposes and are used in different parts of a web application. \\n\\nEmber.js is a front-end JavaScript framework designed for creating scalable single-page web applications. It provides a complete solution which includes data management and an application flow. It follows the convention over configuration principle, providing a higher degree of opinion on how applications should be structured.\\n\\nOn the other hand, Express.js is a back-end web application framework for Node.js. It is designed for building web applications and RESTful APIs, it's relatively minimal with many features available as plugins. Express.js forms the backend part of the MEAN, MERN and MEVN stack technologies, working alongside a front-end JavaScript framework or library and MongoDB database software.\\n\\nIn summary, Ember.js is typically used for structuring the front-end part of the web application, while Express.js is used for building the back-end services.\""
            ],
            "application/vnd.google.colaboratory.intrinsic+json": {
              "type": "string"
            }
          },
          "metadata": {},
          "execution_count": 25
        }
      ]
    },
    {
      "cell_type": "code",
      "source": [
        "agent.run(\"Explain what is the difference between ember.js and express.js based on the files I provided only.\")"
      ],
      "metadata": {
        "colab": {
          "base_uri": "https://localhost:8080/",
          "height": 281
        },
        "id": "Sr8B8prwztq5",
        "outputId": "b0e3505e-0f7f-4889-d509-60355d6555e7"
      },
      "execution_count": null,
      "outputs": [
        {
          "output_type": "stream",
          "name": "stdout",
          "text": [
            "\n",
            "\n",
            "\u001b[1m> Entering new AgentExecutor chain...\u001b[0m\n",
            "\u001b[32;1m\u001b[1;3mThis question is asking for a comparison between two JavaScript frameworks based on specific files provided. Since the question specifies that the answer should be based on provided files, I should use the qa_chain tool to analyse the content of these files.\n",
            "Action: qa_chain\n",
            "Action Input: Explain what is the difference between ember.js and express.js based on the files I provided only.\u001b[0m\n",
            "Observation: \u001b[38;5;200m\u001b[1;3mThe text provided doesn't offer a direct comparison between Ember.js and Express.js. However, it does indicate that Ember.js is being used as the front-end framework for the application, while Express.js is mentioned in context of performance, efficiency, and handling HTTP requests and responses. Unfortunately, without more context, a detailed comparison between the two based on the provided information isn't possible.\u001b[0m\n",
            "Thought:\u001b[32;1m\u001b[1;3mBased on the information from the files, it seems like Ember.js is used as a front-end framework in the application, while Express.js is used for performance and efficiency in handling HTTP requests and responses. However, a more detailed comparison is not possible without more context or information.\n",
            "Final Answer: Based on the provided files, Ember.js is used as the front-end framework for the application, providing the structure for the user interface and user interactions. On the other hand, Express.js is used for handling HTTP requests and responses, providing performance and efficiency for the server-side of the application. A more detailed comparison isn't possible without additional context or information.\u001b[0m\n",
            "\n",
            "\u001b[1m> Finished chain.\u001b[0m\n"
          ]
        },
        {
          "output_type": "execute_result",
          "data": {
            "text/plain": [
              "\"Based on the provided files, Ember.js is used as the front-end framework for the application, providing the structure for the user interface and user interactions. On the other hand, Express.js is used for handling HTTP requests and responses, providing performance and efficiency for the server-side of the application. A more detailed comparison isn't possible without additional context or information.\""
            ],
            "application/vnd.google.colaboratory.intrinsic+json": {
              "type": "string"
            }
          },
          "metadata": {},
          "execution_count": 26
        }
      ]
    },
    {
      "cell_type": "code",
      "source": [
        "#developing a github tool"
      ],
      "metadata": {
        "id": "D1-41TsYUtXH"
      },
      "execution_count": null,
      "outputs": []
    },
    {
      "cell_type": "code",
      "source": [
        "import os\n",
        "import subprocess\n",
        "\n",
        "#Repo Cloning tool\n",
        "\n",
        "def clone_repo(repo_url, target_dir):\n",
        "  \"\"\"Clones a Git repository into the specified target directory.\n",
        "\n",
        "  Args:\n",
        "    repo_url: The URL of the Git repository to clone.\n",
        "    target_dir: The path to the target directory.\n",
        "  \"\"\"\n",
        "\n",
        "  try:\n",
        "    os.makedirs(target_dir, exist_ok=True)  # Create target directory if it doesn't exist\n",
        "    subprocess.run([\"git\", \"clone\", repo_url, target_dir], check=True)\n",
        "    print(f\"Repository cloned successfully to {target_dir}\")\n",
        "  except subprocess.CalledProcessError as e:\n",
        "    print(f\"Error cloning repository: {e}\")"
      ],
      "metadata": {
        "id": "OXVshw8sZB9S"
      },
      "execution_count": null,
      "outputs": []
    },
    {
      "cell_type": "code",
      "source": [
        "repo_url = \"https://github.com/ThetSweLin/test_langchain_github.git\"\n",
        "target_dir = \"/content/drive/MyDrive/test\"\n",
        "clone_repo(repo_url, target_dir)"
      ],
      "metadata": {
        "colab": {
          "base_uri": "https://localhost:8080/"
        },
        "id": "Gui70V3MZQbc",
        "outputId": "e5a3c9bd-1c01-40d7-f82a-ba12bec46bca"
      },
      "execution_count": null,
      "outputs": [
        {
          "output_type": "stream",
          "name": "stdout",
          "text": [
            "Error cloning repository: Command '['git', 'clone', 'https://github.com/ThetSweLin/test_langchain_github.git', '/content/drive/MyDrive/test']' returned non-zero exit status 128.\n"
          ]
        }
      ]
    },
    {
      "cell_type": "code",
      "source": [
        "clone_repo_tool = Tool(\n",
        "    name=\"clone_repo_tool\",\n",
        "    func=clone_repo,\n",
        "    description=\"A tool to clone a Git repository\"\n",
        ")"
      ],
      "metadata": {
        "id": "QhsaFBLFa168"
      },
      "execution_count": null,
      "outputs": []
    },
    {
      "cell_type": "code",
      "source": [
        "#reading tool (need to update about file path)!!!!!\n",
        "\n",
        "def read_file_tool(file_path):\n",
        "  file_path = \"/content/drive/MyDrive/\" + str(file_path)\n",
        "  with open(file_path, 'r') as file:\n",
        "    file_content = file.read()\n",
        "  return file_content\n",
        "\n",
        "read_file_tool = Tool(\n",
        "    name=\"read_file\",\n",
        "    func=read_file_tool,\n",
        "    description=\"A tool to read a file\"\n",
        ")"
      ],
      "metadata": {
        "id": "yA-FNlJUInIH"
      },
      "execution_count": null,
      "outputs": []
    },
    {
      "cell_type": "markdown",
      "source": [],
      "metadata": {
        "id": "aYmbA3CXS5M_"
      }
    },
    {
      "cell_type": "code",
      "source": [
        "tools.append(clone_repo_tool)\n",
        "tools.append(read_file_tool)"
      ],
      "metadata": {
        "id": "t5ziDYm9VUry"
      },
      "execution_count": null,
      "outputs": []
    },
    {
      "cell_type": "code",
      "source": [
        "agent = initialize_agent(tools, llm, agent=\"zero-shot-react-description\", verbose=True)"
      ],
      "metadata": {
        "id": "fyJY1muCWFwx"
      },
      "execution_count": null,
      "outputs": []
    },
    {
      "cell_type": "code",
      "source": [
        "agent.run(\"What are the contents of test/test.py about?\")"
      ],
      "metadata": {
        "colab": {
          "base_uri": "https://localhost:8080/",
          "height": 316
        },
        "id": "NYNkXkyZWONH",
        "outputId": "049d3c0a-6028-4fa0-d51c-a49f8870c785"
      },
      "execution_count": null,
      "outputs": [
        {
          "output_type": "stream",
          "name": "stdout",
          "text": [
            "\n",
            "\n",
            "\u001b[1m> Entering new AgentExecutor chain...\u001b[0m\n",
            "\u001b[32;1m\u001b[1;3mThe question is asking for the content of a specific file in a specific location. Therefore, I need to read that file.\n",
            "Action: read_file\n",
            "Action Input: \"test/test.py\"\u001b[0m\n",
            "Observation: \u001b[38;5;200m\u001b[1;3mx = 1\n",
            "y = 2\n",
            "print(x + y)\n",
            "\u001b[0m\n",
            "Thought:\u001b[32;1m\u001b[1;3mThe content of the file consists of python code that defines two variables, x and y, assigns them the values 1 and 2 respectively, and then prints out the sum of x and y.\n",
            "Final Answer: The contents of test/test.py is a simple Python script that assigns the values 1 and 2 to the variables x and y respectively, then prints out the sum of x and y.\u001b[0m\n",
            "\n",
            "\u001b[1m> Finished chain.\u001b[0m\n"
          ]
        },
        {
          "output_type": "execute_result",
          "data": {
            "text/plain": [
              "'The contents of test/test.py is a simple Python script that assigns the values 1 and 2 to the variables x and y respectively, then prints out the sum of x and y.'"
            ],
            "application/vnd.google.colaboratory.intrinsic+json": {
              "type": "string"
            }
          },
          "metadata": {},
          "execution_count": 75
        }
      ]
    },
    {
      "cell_type": "code",
      "source": [
        "agent.run(\"Can you read the code in test/test.py and generate a multiplication function?\")"
      ],
      "metadata": {
        "colab": {
          "base_uri": "https://localhost:8080/",
          "height": 403
        },
        "id": "Eal5pISRWjq7",
        "outputId": "ffc6eab2-71b4-4d0a-d468-4896b57f81bc"
      },
      "execution_count": null,
      "outputs": [
        {
          "output_type": "stream",
          "name": "stdout",
          "text": [
            "\n",
            "\n",
            "\u001b[1m> Entering new AgentExecutor chain...\u001b[0m\n",
            "\u001b[32;1m\u001b[1;3mFirst, I need to access the code in the specified file. The `read_file` tool seems to be the most appropriate for this task.\n",
            "Action: read_file\n",
            "Action Input: test/test.py\u001b[0m\n",
            "Observation: \u001b[38;5;200m\u001b[1;3mx = 1\n",
            "y = 2\n",
            "print(x + y)\n",
            "\u001b[0m\n",
            "Thought:\u001b[32;1m\u001b[1;3mThe code observed in the file does not contain a multiplication function. It seems to be a simple script that adds two numbers. However, a multiplication function can be generated based on the general knowledge of Python.\n",
            "Final Answer: Sure, a multiplication function in Python could look like this:\n",
            "\n",
            "def multiply(x, y):\n",
            "    return x * y\n",
            "\n",
            "You can call this function with two numbers to get their product. For example, multiply(2, 3) would return 6.\u001b[0m\n",
            "\n",
            "\u001b[1m> Finished chain.\u001b[0m\n"
          ]
        },
        {
          "output_type": "execute_result",
          "data": {
            "text/plain": [
              "'Sure, a multiplication function in Python could look like this:\\n\\ndef multiply(x, y):\\n    return x * y\\n\\nYou can call this function with two numbers to get their product. For example, multiply(2, 3) would return 6.'"
            ],
            "application/vnd.google.colaboratory.intrinsic+json": {
              "type": "string"
            }
          },
          "metadata": {},
          "execution_count": 82
        }
      ]
    },
    {
      "cell_type": "code",
      "source": [],
      "metadata": {
        "id": "lTellAdkdibV"
      },
      "execution_count": null,
      "outputs": []
    }
  ]
}